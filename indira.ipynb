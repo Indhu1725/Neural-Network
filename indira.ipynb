{
  "nbformat": 4,
  "nbformat_minor": 0,
  "metadata": {
    "colab": {
      "provenance": [],
      "include_colab_link": true
    },
    "kernelspec": {
      "name": "python3",
      "display_name": "Python 3"
    },
    "language_info": {
      "name": "python"
    }
  },
  "cells": [
    {
      "cell_type": "markdown",
      "metadata": {
        "id": "view-in-github",
        "colab_type": "text"
      },
      "source": [
        "<a href=\"https://colab.research.google.com/github/Indhu1725/Neural-Network/blob/main/indira.ipynb\" target=\"_parent\"><img src=\"https://colab.research.google.com/assets/colab-badge.svg\" alt=\"Open In Colab\"/></a>"
      ]
    },
    {
      "cell_type": "code",
      "execution_count": null,
      "metadata": {
        "id": "5dvA5NlurCOD",
        "colab": {
          "base_uri": "https://localhost:8080/"
        },
        "outputId": "65de4004-01d2-4170-bb73-405d55de4410"
      },
      "outputs": [
        {
          "output_type": "stream",
          "name": "stdout",
          "text": [
            "Drive already mounted at /content/drive; to attempt to forcibly remount, call drive.mount(\"/content/drive\", force_remount=True).\n"
          ]
        }
      ],
      "source": [
        "from google.colab import drive\n",
        "drive.mount('/content/drive')"
      ]
    },
    {
      "cell_type": "code",
      "source": [],
      "metadata": {
        "id": "TrWqArgToHuK"
      },
      "execution_count": null,
      "outputs": []
    },
    {
      "cell_type": "code",
      "source": [
        "import pandas as pd\n",
        "\n",
        "# Load the dataset\n",
        "df = pd.read_excel('/content/drive/MyDrive/datasets4phd/indira.xlsx')\n"
      ],
      "metadata": {
        "id": "h4JTNok3sXJ8"
      },
      "execution_count": null,
      "outputs": []
    },
    {
      "cell_type": "code",
      "source": [
        "df.head(10)"
      ],
      "metadata": {
        "colab": {
          "base_uri": "https://localhost:8080/",
          "height": 363
        },
        "id": "bZrsK5D5FyVo",
        "outputId": "21ee4f89-325b-4ba5-e473-6d5975d857fc"
      },
      "execution_count": null,
      "outputs": [
        {
          "output_type": "execute_result",
          "data": {
            "text/plain": [
              "        Date  Invertor1\n",
              "0 2021-10-01      182.6\n",
              "1 2021-10-02      170.9\n",
              "2 2021-10-03      169.4\n",
              "3 2021-10-04      174.7\n",
              "4 2021-10-05      166.8\n",
              "5 2021-10-06      191.9\n",
              "6 2021-10-07      173.9\n",
              "7 2021-10-08      120.1\n",
              "8 2021-10-09      198.0\n",
              "9 2021-10-10      187.4"
            ],
            "text/html": [
              "\n",
              "  <div id=\"df-67412e86-762e-4cd1-b1fc-ac1fc942d193\" class=\"colab-df-container\">\n",
              "    <div>\n",
              "<style scoped>\n",
              "    .dataframe tbody tr th:only-of-type {\n",
              "        vertical-align: middle;\n",
              "    }\n",
              "\n",
              "    .dataframe tbody tr th {\n",
              "        vertical-align: top;\n",
              "    }\n",
              "\n",
              "    .dataframe thead th {\n",
              "        text-align: right;\n",
              "    }\n",
              "</style>\n",
              "<table border=\"1\" class=\"dataframe\">\n",
              "  <thead>\n",
              "    <tr style=\"text-align: right;\">\n",
              "      <th></th>\n",
              "      <th>Date</th>\n",
              "      <th>Invertor1</th>\n",
              "    </tr>\n",
              "  </thead>\n",
              "  <tbody>\n",
              "    <tr>\n",
              "      <th>0</th>\n",
              "      <td>2021-10-01</td>\n",
              "      <td>182.6</td>\n",
              "    </tr>\n",
              "    <tr>\n",
              "      <th>1</th>\n",
              "      <td>2021-10-02</td>\n",
              "      <td>170.9</td>\n",
              "    </tr>\n",
              "    <tr>\n",
              "      <th>2</th>\n",
              "      <td>2021-10-03</td>\n",
              "      <td>169.4</td>\n",
              "    </tr>\n",
              "    <tr>\n",
              "      <th>3</th>\n",
              "      <td>2021-10-04</td>\n",
              "      <td>174.7</td>\n",
              "    </tr>\n",
              "    <tr>\n",
              "      <th>4</th>\n",
              "      <td>2021-10-05</td>\n",
              "      <td>166.8</td>\n",
              "    </tr>\n",
              "    <tr>\n",
              "      <th>5</th>\n",
              "      <td>2021-10-06</td>\n",
              "      <td>191.9</td>\n",
              "    </tr>\n",
              "    <tr>\n",
              "      <th>6</th>\n",
              "      <td>2021-10-07</td>\n",
              "      <td>173.9</td>\n",
              "    </tr>\n",
              "    <tr>\n",
              "      <th>7</th>\n",
              "      <td>2021-10-08</td>\n",
              "      <td>120.1</td>\n",
              "    </tr>\n",
              "    <tr>\n",
              "      <th>8</th>\n",
              "      <td>2021-10-09</td>\n",
              "      <td>198.0</td>\n",
              "    </tr>\n",
              "    <tr>\n",
              "      <th>9</th>\n",
              "      <td>2021-10-10</td>\n",
              "      <td>187.4</td>\n",
              "    </tr>\n",
              "  </tbody>\n",
              "</table>\n",
              "</div>\n",
              "    <div class=\"colab-df-buttons\">\n",
              "\n",
              "  <div class=\"colab-df-container\">\n",
              "    <button class=\"colab-df-convert\" onclick=\"convertToInteractive('df-67412e86-762e-4cd1-b1fc-ac1fc942d193')\"\n",
              "            title=\"Convert this dataframe to an interactive table.\"\n",
              "            style=\"display:none;\">\n",
              "\n",
              "  <svg xmlns=\"http://www.w3.org/2000/svg\" height=\"24px\" viewBox=\"0 -960 960 960\">\n",
              "    <path d=\"M120-120v-720h720v720H120Zm60-500h600v-160H180v160Zm220 220h160v-160H400v160Zm0 220h160v-160H400v160ZM180-400h160v-160H180v160Zm440 0h160v-160H620v160ZM180-180h160v-160H180v160Zm440 0h160v-160H620v160Z\"/>\n",
              "  </svg>\n",
              "    </button>\n",
              "\n",
              "  <style>\n",
              "    .colab-df-container {\n",
              "      display:flex;\n",
              "      gap: 12px;\n",
              "    }\n",
              "\n",
              "    .colab-df-convert {\n",
              "      background-color: #E8F0FE;\n",
              "      border: none;\n",
              "      border-radius: 50%;\n",
              "      cursor: pointer;\n",
              "      display: none;\n",
              "      fill: #1967D2;\n",
              "      height: 32px;\n",
              "      padding: 0 0 0 0;\n",
              "      width: 32px;\n",
              "    }\n",
              "\n",
              "    .colab-df-convert:hover {\n",
              "      background-color: #E2EBFA;\n",
              "      box-shadow: 0px 1px 2px rgba(60, 64, 67, 0.3), 0px 1px 3px 1px rgba(60, 64, 67, 0.15);\n",
              "      fill: #174EA6;\n",
              "    }\n",
              "\n",
              "    .colab-df-buttons div {\n",
              "      margin-bottom: 4px;\n",
              "    }\n",
              "\n",
              "    [theme=dark] .colab-df-convert {\n",
              "      background-color: #3B4455;\n",
              "      fill: #D2E3FC;\n",
              "    }\n",
              "\n",
              "    [theme=dark] .colab-df-convert:hover {\n",
              "      background-color: #434B5C;\n",
              "      box-shadow: 0px 1px 3px 1px rgba(0, 0, 0, 0.15);\n",
              "      filter: drop-shadow(0px 1px 2px rgba(0, 0, 0, 0.3));\n",
              "      fill: #FFFFFF;\n",
              "    }\n",
              "  </style>\n",
              "\n",
              "    <script>\n",
              "      const buttonEl =\n",
              "        document.querySelector('#df-67412e86-762e-4cd1-b1fc-ac1fc942d193 button.colab-df-convert');\n",
              "      buttonEl.style.display =\n",
              "        google.colab.kernel.accessAllowed ? 'block' : 'none';\n",
              "\n",
              "      async function convertToInteractive(key) {\n",
              "        const element = document.querySelector('#df-67412e86-762e-4cd1-b1fc-ac1fc942d193');\n",
              "        const dataTable =\n",
              "          await google.colab.kernel.invokeFunction('convertToInteractive',\n",
              "                                                    [key], {});\n",
              "        if (!dataTable) return;\n",
              "\n",
              "        const docLinkHtml = 'Like what you see? Visit the ' +\n",
              "          '<a target=\"_blank\" href=https://colab.research.google.com/notebooks/data_table.ipynb>data table notebook</a>'\n",
              "          + ' to learn more about interactive tables.';\n",
              "        element.innerHTML = '';\n",
              "        dataTable['output_type'] = 'display_data';\n",
              "        await google.colab.output.renderOutput(dataTable, element);\n",
              "        const docLink = document.createElement('div');\n",
              "        docLink.innerHTML = docLinkHtml;\n",
              "        element.appendChild(docLink);\n",
              "      }\n",
              "    </script>\n",
              "  </div>\n",
              "\n",
              "\n",
              "<div id=\"df-f373c255-f925-4d3f-86f6-d59b8699f6fe\">\n",
              "  <button class=\"colab-df-quickchart\" onclick=\"quickchart('df-f373c255-f925-4d3f-86f6-d59b8699f6fe')\"\n",
              "            title=\"Suggest charts\"\n",
              "            style=\"display:none;\">\n",
              "\n",
              "<svg xmlns=\"http://www.w3.org/2000/svg\" height=\"24px\"viewBox=\"0 0 24 24\"\n",
              "     width=\"24px\">\n",
              "    <g>\n",
              "        <path d=\"M19 3H5c-1.1 0-2 .9-2 2v14c0 1.1.9 2 2 2h14c1.1 0 2-.9 2-2V5c0-1.1-.9-2-2-2zM9 17H7v-7h2v7zm4 0h-2V7h2v10zm4 0h-2v-4h2v4z\"/>\n",
              "    </g>\n",
              "</svg>\n",
              "  </button>\n",
              "\n",
              "<style>\n",
              "  .colab-df-quickchart {\n",
              "      --bg-color: #E8F0FE;\n",
              "      --fill-color: #1967D2;\n",
              "      --hover-bg-color: #E2EBFA;\n",
              "      --hover-fill-color: #174EA6;\n",
              "      --disabled-fill-color: #AAA;\n",
              "      --disabled-bg-color: #DDD;\n",
              "  }\n",
              "\n",
              "  [theme=dark] .colab-df-quickchart {\n",
              "      --bg-color: #3B4455;\n",
              "      --fill-color: #D2E3FC;\n",
              "      --hover-bg-color: #434B5C;\n",
              "      --hover-fill-color: #FFFFFF;\n",
              "      --disabled-bg-color: #3B4455;\n",
              "      --disabled-fill-color: #666;\n",
              "  }\n",
              "\n",
              "  .colab-df-quickchart {\n",
              "    background-color: var(--bg-color);\n",
              "    border: none;\n",
              "    border-radius: 50%;\n",
              "    cursor: pointer;\n",
              "    display: none;\n",
              "    fill: var(--fill-color);\n",
              "    height: 32px;\n",
              "    padding: 0;\n",
              "    width: 32px;\n",
              "  }\n",
              "\n",
              "  .colab-df-quickchart:hover {\n",
              "    background-color: var(--hover-bg-color);\n",
              "    box-shadow: 0 1px 2px rgba(60, 64, 67, 0.3), 0 1px 3px 1px rgba(60, 64, 67, 0.15);\n",
              "    fill: var(--button-hover-fill-color);\n",
              "  }\n",
              "\n",
              "  .colab-df-quickchart-complete:disabled,\n",
              "  .colab-df-quickchart-complete:disabled:hover {\n",
              "    background-color: var(--disabled-bg-color);\n",
              "    fill: var(--disabled-fill-color);\n",
              "    box-shadow: none;\n",
              "  }\n",
              "\n",
              "  .colab-df-spinner {\n",
              "    border: 2px solid var(--fill-color);\n",
              "    border-color: transparent;\n",
              "    border-bottom-color: var(--fill-color);\n",
              "    animation:\n",
              "      spin 1s steps(1) infinite;\n",
              "  }\n",
              "\n",
              "  @keyframes spin {\n",
              "    0% {\n",
              "      border-color: transparent;\n",
              "      border-bottom-color: var(--fill-color);\n",
              "      border-left-color: var(--fill-color);\n",
              "    }\n",
              "    20% {\n",
              "      border-color: transparent;\n",
              "      border-left-color: var(--fill-color);\n",
              "      border-top-color: var(--fill-color);\n",
              "    }\n",
              "    30% {\n",
              "      border-color: transparent;\n",
              "      border-left-color: var(--fill-color);\n",
              "      border-top-color: var(--fill-color);\n",
              "      border-right-color: var(--fill-color);\n",
              "    }\n",
              "    40% {\n",
              "      border-color: transparent;\n",
              "      border-right-color: var(--fill-color);\n",
              "      border-top-color: var(--fill-color);\n",
              "    }\n",
              "    60% {\n",
              "      border-color: transparent;\n",
              "      border-right-color: var(--fill-color);\n",
              "    }\n",
              "    80% {\n",
              "      border-color: transparent;\n",
              "      border-right-color: var(--fill-color);\n",
              "      border-bottom-color: var(--fill-color);\n",
              "    }\n",
              "    90% {\n",
              "      border-color: transparent;\n",
              "      border-bottom-color: var(--fill-color);\n",
              "    }\n",
              "  }\n",
              "</style>\n",
              "\n",
              "  <script>\n",
              "    async function quickchart(key) {\n",
              "      const quickchartButtonEl =\n",
              "        document.querySelector('#' + key + ' button');\n",
              "      quickchartButtonEl.disabled = true;  // To prevent multiple clicks.\n",
              "      quickchartButtonEl.classList.add('colab-df-spinner');\n",
              "      try {\n",
              "        const charts = await google.colab.kernel.invokeFunction(\n",
              "            'suggestCharts', [key], {});\n",
              "      } catch (error) {\n",
              "        console.error('Error during call to suggestCharts:', error);\n",
              "      }\n",
              "      quickchartButtonEl.classList.remove('colab-df-spinner');\n",
              "      quickchartButtonEl.classList.add('colab-df-quickchart-complete');\n",
              "    }\n",
              "    (() => {\n",
              "      let quickchartButtonEl =\n",
              "        document.querySelector('#df-f373c255-f925-4d3f-86f6-d59b8699f6fe button');\n",
              "      quickchartButtonEl.style.display =\n",
              "        google.colab.kernel.accessAllowed ? 'block' : 'none';\n",
              "    })();\n",
              "  </script>\n",
              "</div>\n",
              "\n",
              "    </div>\n",
              "  </div>\n"
            ],
            "application/vnd.google.colaboratory.intrinsic+json": {
              "type": "dataframe",
              "variable_name": "df",
              "summary": "{\n  \"name\": \"df\",\n  \"rows\": 90,\n  \"fields\": [\n    {\n      \"column\": \"Date\",\n      \"properties\": {\n        \"dtype\": \"date\",\n        \"min\": \"2021-10-01 00:00:00\",\n        \"max\": \"2021-12-31 00:00:00\",\n        \"num_unique_values\": 90,\n        \"samples\": [\n          \"2021-11-12 00:00:00\",\n          \"2021-10-23 00:00:00\",\n          \"2021-11-27 00:00:00\"\n        ],\n        \"semantic_type\": \"\",\n        \"description\": \"\"\n      }\n    },\n    {\n      \"column\": \"Invertor1\",\n      \"properties\": {\n        \"dtype\": \"number\",\n        \"std\": 37.88943043681796,\n        \"min\": 40.0,\n        \"max\": 217.4,\n        \"num_unique_values\": 90,\n        \"samples\": [\n          40.0,\n          204.0,\n          165.3\n        ],\n        \"semantic_type\": \"\",\n        \"description\": \"\"\n      }\n    }\n  ]\n}"
            }
          },
          "metadata": {},
          "execution_count": 16
        }
      ]
    },
    {
      "cell_type": "code",
      "source": [
        "df.shape"
      ],
      "metadata": {
        "colab": {
          "base_uri": "https://localhost:8080/"
        },
        "id": "P6if7NPdSdgT",
        "outputId": "67b956ab-6847-45ce-c5c5-1e31d8337e0f"
      },
      "execution_count": null,
      "outputs": [
        {
          "output_type": "execute_result",
          "data": {
            "text/plain": [
              "(90, 2)"
            ]
          },
          "metadata": {},
          "execution_count": 17
        }
      ]
    },
    {
      "cell_type": "code",
      "source": [
        "df.info()"
      ],
      "metadata": {
        "id": "TdH9XwXgSsKJ",
        "outputId": "9f324117-eacb-4e60-9ed6-3d2dbf83cbc9",
        "colab": {
          "base_uri": "https://localhost:8080/"
        }
      },
      "execution_count": null,
      "outputs": [
        {
          "output_type": "stream",
          "name": "stdout",
          "text": [
            "<class 'pandas.core.frame.DataFrame'>\n",
            "RangeIndex: 90 entries, 0 to 89\n",
            "Data columns (total 2 columns):\n",
            " #   Column     Non-Null Count  Dtype         \n",
            "---  ------     --------------  -----         \n",
            " 0   Date       90 non-null     datetime64[ns]\n",
            " 1   Invertor1  90 non-null     float64       \n",
            "dtypes: datetime64[ns](1), float64(1)\n",
            "memory usage: 1.5 KB\n"
          ]
        }
      ]
    },
    {
      "cell_type": "code",
      "source": [
        "from sklearn.preprocessing import MinMaxScaler\n",
        "import numpy as np\n",
        "\n",
        "# Normalize features\n",
        "scaler = MinMaxScaler(feature_range=(0, 1))\n",
        "scaled = scaler.fit_transform(df[['Invertor1']].values)\n",
        "\n",
        "# Convert series to supervised learning\n",
        "def series_to_supervised(data, n_in=1, n_out=1, dropnan=True):\n",
        "    n_vars = 1 if type(data) is list else data.shape[1]\n",
        "    df = pd.DataFrame(data)\n",
        "    cols, names = list(), list()\n",
        "    for i in range(n_in, 0, -1):\n",
        "        cols.append(df.shift(i))\n",
        "        names += [('var%d(t-%d)' % (j+1, i)) for j in range(n_vars)]\n",
        "    for i in range(0, n_out):\n",
        "        cols.append(df.shift(-i))\n",
        "        if i == 0:\n",
        "            names += [('var%d(t)' % (j+1)) for j in range(n_vars)]\n",
        "        else:\n",
        "            names += [('var%d(t+%d)' % (j+1, i)) for j in range(n_vars)]\n",
        "    agg = pd.concat(cols, axis=1)\n",
        "    agg.columns = names\n",
        "    if dropnan:\n",
        "        agg.dropna(inplace=True)\n",
        "    return agg\n",
        "\n",
        "reframed = series_to_supervised(scaled, 1, 1)\n",
        "\n",
        "# Split into train and test sets\n",
        "values = reframed.values\n",
        "n_train_days = int(len(values) * 0.96)\n",
        "train = values[:n_train_days, :]\n",
        "test = values[n_train_days:, :]\n",
        "\n",
        "# Split into input and outputs\n",
        "train_X, train_y = train[:, :-1], train[:, -1]\n",
        "test_X, test_y = test[:, :-1], test[:, -1]\n",
        "\n",
        "# Reshape input to be 3D [samples, timesteps, features]\n",
        "train_X = train_X.reshape((train_X.shape[0], 1, train_X.shape[1]))\n",
        "test_X = test_X.reshape((test_X.shape[0], 1, test_X.shape[1]))\n"
      ],
      "metadata": {
        "id": "e4KRrEFeuNU9"
      },
      "execution_count": null,
      "outputs": []
    },
    {
      "cell_type": "code",
      "source": [
        "\n",
        "from keras.models import Sequential\n",
        "from keras.layers import LSTM, Dense\n",
        "\n",
        "model = Sequential()\n",
        "model.add(LSTM(50, input_shape=(train_X.shape[1], train_X.shape[2])))\n",
        "model.add(Dense(1))\n",
        "model.compile(loss='mae', optimizer='adam')\n"
      ],
      "metadata": {
        "id": "eOczB9-fuV4Q"
      },
      "execution_count": null,
      "outputs": []
    },
    {
      "cell_type": "code",
      "source": [
        "history = model.fit(train_X, train_y, epochs=50, batch_size=72, validation_data=(test_X, test_y), verbose=2, shuffle=False)\n"
      ],
      "metadata": {
        "colab": {
          "base_uri": "https://localhost:8080/"
        },
        "id": "XumI4O-Cudlc",
        "outputId": "bb6352a3-465a-42d4-8ab7-8abe1c2d3db3"
      },
      "execution_count": null,
      "outputs": [
        {
          "output_type": "stream",
          "name": "stdout",
          "text": [
            "Epoch 1/50\n",
            "2/2 - 3s - loss: 0.6365 - val_loss: 0.6119 - 3s/epoch - 1s/step\n",
            "Epoch 2/50\n",
            "2/2 - 0s - loss: 0.6252 - val_loss: 0.6009 - 37ms/epoch - 19ms/step\n",
            "Epoch 3/50\n",
            "2/2 - 0s - loss: 0.6139 - val_loss: 0.5899 - 37ms/epoch - 18ms/step\n",
            "Epoch 4/50\n",
            "2/2 - 0s - loss: 0.6025 - val_loss: 0.5788 - 40ms/epoch - 20ms/step\n",
            "Epoch 5/50\n",
            "2/2 - 0s - loss: 0.5911 - val_loss: 0.5676 - 38ms/epoch - 19ms/step\n",
            "Epoch 6/50\n",
            "2/2 - 0s - loss: 0.5796 - val_loss: 0.5564 - 40ms/epoch - 20ms/step\n",
            "Epoch 7/50\n",
            "2/2 - 0s - loss: 0.5681 - val_loss: 0.5452 - 37ms/epoch - 19ms/step\n",
            "Epoch 8/50\n",
            "2/2 - 0s - loss: 0.5564 - val_loss: 0.5338 - 39ms/epoch - 19ms/step\n",
            "Epoch 9/50\n",
            "2/2 - 0s - loss: 0.5447 - val_loss: 0.5224 - 39ms/epoch - 19ms/step\n",
            "Epoch 10/50\n",
            "2/2 - 0s - loss: 0.5330 - val_loss: 0.5108 - 39ms/epoch - 19ms/step\n",
            "Epoch 11/50\n",
            "2/2 - 0s - loss: 0.5214 - val_loss: 0.4992 - 42ms/epoch - 21ms/step\n",
            "Epoch 12/50\n",
            "2/2 - 0s - loss: 0.5096 - val_loss: 0.4874 - 38ms/epoch - 19ms/step\n",
            "Epoch 13/50\n",
            "2/2 - 0s - loss: 0.4976 - val_loss: 0.4755 - 37ms/epoch - 19ms/step\n",
            "Epoch 14/50\n",
            "2/2 - 0s - loss: 0.4855 - val_loss: 0.4634 - 38ms/epoch - 19ms/step\n",
            "Epoch 15/50\n",
            "2/2 - 0s - loss: 0.4733 - val_loss: 0.4511 - 36ms/epoch - 18ms/step\n",
            "Epoch 16/50\n",
            "2/2 - 0s - loss: 0.4608 - val_loss: 0.4386 - 39ms/epoch - 19ms/step\n",
            "Epoch 17/50\n",
            "2/2 - 0s - loss: 0.4482 - val_loss: 0.4259 - 39ms/epoch - 19ms/step\n",
            "Epoch 18/50\n",
            "2/2 - 0s - loss: 0.4356 - val_loss: 0.4130 - 37ms/epoch - 18ms/step\n",
            "Epoch 19/50\n",
            "2/2 - 0s - loss: 0.4228 - val_loss: 0.3999 - 35ms/epoch - 17ms/step\n",
            "Epoch 20/50\n",
            "2/2 - 0s - loss: 0.4098 - val_loss: 0.3865 - 38ms/epoch - 19ms/step\n",
            "Epoch 21/50\n",
            "2/2 - 0s - loss: 0.3969 - val_loss: 0.3729 - 37ms/epoch - 18ms/step\n",
            "Epoch 22/50\n",
            "2/2 - 0s - loss: 0.3841 - val_loss: 0.3590 - 45ms/epoch - 23ms/step\n",
            "Epoch 23/50\n",
            "2/2 - 0s - loss: 0.3710 - val_loss: 0.3448 - 47ms/epoch - 23ms/step\n",
            "Epoch 24/50\n",
            "2/2 - 0s - loss: 0.3576 - val_loss: 0.3304 - 65ms/epoch - 33ms/step\n",
            "Epoch 25/50\n",
            "2/2 - 0s - loss: 0.3439 - val_loss: 0.3156 - 63ms/epoch - 31ms/step\n",
            "Epoch 26/50\n",
            "2/2 - 0s - loss: 0.3300 - val_loss: 0.3005 - 45ms/epoch - 23ms/step\n",
            "Epoch 27/50\n",
            "2/2 - 0s - loss: 0.3160 - val_loss: 0.2850 - 39ms/epoch - 19ms/step\n",
            "Epoch 28/50\n",
            "2/2 - 0s - loss: 0.3018 - val_loss: 0.2692 - 40ms/epoch - 20ms/step\n",
            "Epoch 29/50\n",
            "2/2 - 0s - loss: 0.2876 - val_loss: 0.2531 - 38ms/epoch - 19ms/step\n",
            "Epoch 30/50\n",
            "2/2 - 0s - loss: 0.2736 - val_loss: 0.2367 - 40ms/epoch - 20ms/step\n",
            "Epoch 31/50\n",
            "2/2 - 0s - loss: 0.2602 - val_loss: 0.2202 - 36ms/epoch - 18ms/step\n",
            "Epoch 32/50\n",
            "2/2 - 0s - loss: 0.2482 - val_loss: 0.2035 - 37ms/epoch - 18ms/step\n",
            "Epoch 33/50\n",
            "2/2 - 0s - loss: 0.2362 - val_loss: 0.1866 - 37ms/epoch - 18ms/step\n",
            "Epoch 34/50\n",
            "2/2 - 0s - loss: 0.2241 - val_loss: 0.1694 - 39ms/epoch - 19ms/step\n",
            "Epoch 35/50\n",
            "2/2 - 0s - loss: 0.2123 - val_loss: 0.1521 - 36ms/epoch - 18ms/step\n",
            "Epoch 36/50\n",
            "2/2 - 0s - loss: 0.2015 - val_loss: 0.1347 - 37ms/epoch - 18ms/step\n",
            "Epoch 37/50\n",
            "2/2 - 0s - loss: 0.1916 - val_loss: 0.1175 - 37ms/epoch - 19ms/step\n",
            "Epoch 38/50\n",
            "2/2 - 0s - loss: 0.1832 - val_loss: 0.1007 - 42ms/epoch - 21ms/step\n",
            "Epoch 39/50\n",
            "2/2 - 0s - loss: 0.1752 - val_loss: 0.0841 - 38ms/epoch - 19ms/step\n",
            "Epoch 40/50\n",
            "2/2 - 0s - loss: 0.1673 - val_loss: 0.0676 - 41ms/epoch - 20ms/step\n",
            "Epoch 41/50\n",
            "2/2 - 0s - loss: 0.1600 - val_loss: 0.0513 - 37ms/epoch - 18ms/step\n",
            "Epoch 42/50\n",
            "2/2 - 0s - loss: 0.1536 - val_loss: 0.0409 - 36ms/epoch - 18ms/step\n",
            "Epoch 43/50\n",
            "2/2 - 0s - loss: 0.1487 - val_loss: 0.0338 - 37ms/epoch - 19ms/step\n",
            "Epoch 44/50\n",
            "2/2 - 0s - loss: 0.1445 - val_loss: 0.0320 - 48ms/epoch - 24ms/step\n",
            "Epoch 45/50\n",
            "2/2 - 0s - loss: 0.1418 - val_loss: 0.0319 - 51ms/epoch - 26ms/step\n",
            "Epoch 46/50\n",
            "2/2 - 0s - loss: 0.1410 - val_loss: 0.0363 - 64ms/epoch - 32ms/step\n",
            "Epoch 47/50\n",
            "2/2 - 0s - loss: 0.1411 - val_loss: 0.0412 - 67ms/epoch - 34ms/step\n",
            "Epoch 48/50\n",
            "2/2 - 0s - loss: 0.1414 - val_loss: 0.0451 - 72ms/epoch - 36ms/step\n",
            "Epoch 49/50\n",
            "2/2 - 0s - loss: 0.1417 - val_loss: 0.0481 - 41ms/epoch - 20ms/step\n",
            "Epoch 50/50\n",
            "2/2 - 0s - loss: 0.1421 - val_loss: 0.0502 - 37ms/epoch - 18ms/step\n"
          ]
        }
      ]
    },
    {
      "cell_type": "code",
      "source": [
        "from matplotlib import pyplot as plt\n",
        "\n",
        "plt.plot(history.history['loss'], label='train')\n",
        "plt.plot(history.history['val_loss'], label='test')\n",
        "plt.legend()\n",
        "plt.show()\n"
      ],
      "metadata": {
        "colab": {
          "base_uri": "https://localhost:8080/",
          "height": 430
        },
        "id": "cjIFvY0fu8ug",
        "outputId": "44bdffe3-4f70-4e56-d053-343251be9ddb"
      },
      "execution_count": null,
      "outputs": [
        {
          "output_type": "display_data",
          "data": {
            "text/plain": [
              "<Figure size 640x480 with 1 Axes>"
            ],
            "image/png": "[encoded data removed]"
          },
          "metadata": {}
        }
      ]
    },
    {
      "cell_type": "code",
      "source": [
        "# Make predictions\n",
        "yhat = model.predict(test_X)\n",
        "test_X = test_X.reshape((test_X.shape[0], test_X.shape[2]))\n",
        "\n",
        "# Invert scaling for forecast\n",
        "inv_yhat = scaler.inverse_transform(yhat)\n",
        "inv_y = scaler.inverse_transform(test_y.reshape(len(test_y), 1))\n",
        "\n",
        "# Plot actual vs predicted\n",
        "plt.figure(figsize=(15, 5))\n",
        "plt.plot(inv_y, label='Actual')\n",
        "plt.plot(inv_yhat, label='Predicted')\n",
        "plt.legend()\n",
        "plt.show()\n"
      ],
      "metadata": {
        "colab": {
          "base_uri": "https://localhost:8080/",
          "height": 462
        },
        "id": "lNLgfLkmvHKm",
        "outputId": "17b61657-632a-4a2c-f4e3-224300877fb2"
      },
      "execution_count": null,
      "outputs": [
        {
          "output_type": "stream",
          "name": "stdout",
          "text": [
            "1/1 [==============================] - 1s 682ms/step\n"
          ]
        },
        {
          "output_type": "display_data",
          "data": {
            "text/plain": [
              "<Figure size 1500x500 with 1 Axes>"
            ],
            "image/png": "[encoded data removed]"
          },
          "metadata": {}
        }
      ]
    },
    {
      "cell_type": "code",
      "source": [
        "from sklearn.metrics import mean_squared_error\n",
        "from math import sqrt\n",
        "\n",
        "# Assuming inv_yhat and inv_y are your predicted and actual values, respectively, in their original scale\n",
        "\n",
        "# Calculate RMSE\n",
        "rmse = sqrt(mean_squared_error(inv_y, inv_yhat))\n",
        "print('Test RMSE: %.3f' % rmse)\n"
      ],
      "metadata": {
        "colab": {
          "base_uri": "https://localhost:8080/"
        },
        "id": "BOW731Cwv2Ey",
        "outputId": "2d8f9539-e5da-4623-daeb-de11a53d524a"
      },
      "execution_count": null,
      "outputs": [
        {
          "output_type": "stream",
          "name": "stdout",
          "text": [
            "Test RMSE: 10.800\n"
          ]
        }
      ]
    },
    {
      "cell_type": "code",
      "source": [
        "# Placeholder for predicted values - replace this with your actual predictions\n",
        "predicted_values = [160 + (i % 30) for i in range(len(df['Date']))]  # Hypothetical predictions\n",
        "\n",
        "# Plotting actual values\n",
        "plt.figure(figsize=(12, 6))\n",
        "plt.bar(df['Date'], df['Invertor1'], color='skyblue', label='Actual Generated Power')\n",
        "\n",
        "# Adding predicted values to the plot\n",
        "plt.bar(df['Date'], predicted_values, color='orange', alpha=0.5, label='Predicted Generated Power')\n",
        "\n",
        "plt.xlabel('Date')\n",
        "plt.ylabel('Generated Power')\n",
        "plt.title('Invertor Generated Power Over Time (Actual vs Predicted)')\n",
        "plt.xticks(rotation=45)\n",
        "plt.legend()\n",
        "plt.tight_layout()  # Adjust layout to make room for the rotated x-axis labels\n",
        "\n",
        "# Show the plot\n",
        "plt.show()\n"
      ],
      "metadata": {
        "colab": {
          "base_uri": "https://localhost:8080/",
          "height": 607
        },
        "id": "kWrP4QugwQpe",
        "outputId": "4e20f2eb-7995-4fdf-ff15-e58f4b326ea3"
      },
      "execution_count": null,
      "outputs": [
        {
          "output_type": "display_data",
          "data": {
            "text/plain": [
              "<Figure size 1200x600 with 1 Axes>"
            ],
            "image/png": "[encoded data removed]"
          },
          "metadata": {}
        }
      ]
    },
    {
      "cell_type": "code",
      "source": [],
      "metadata": {
        "id": "Bewz2Bg5dtKf"
      },
      "execution_count": null,
      "outputs": []
    }
  ]
}